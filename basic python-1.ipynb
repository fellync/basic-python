{
 "cells": [
  {
   "cell_type": "code",
   "execution_count": 1,
   "metadata": {},
   "outputs": [
    {
     "name": "stdout",
     "output_type": "stream",
     "text": [
      "t =  (1, 2, 3)\n"
     ]
    }
   ],
   "source": [
    "\n",
    "# tuple/array\n",
    "# What is this?\n",
    "#A tuple stays the same u cant change it\n",
    "t = (1, 2 ,3)\n",
    "# list/array\n",
    "# What is this?\n",
    "# Like a tuple but you can change it\n",
    "l = [1, 2, 3]\n",
    "print(\"t = \", t)\n",
    "# l[0] = 5\n",
    "# print(l)"
   ]
  },
  {
   "cell_type": "code",
   "execution_count": 2,
   "metadata": {},
   "outputs": [
    {
     "name": "stdout",
     "output_type": "stream",
     "text": [
      "[1, 4, 3]\n"
     ]
    }
   ],
   "source": [
    "x = list(t)\n",
    "x[1] = 4\n",
    "print(x)"
   ]
  },
  {
   "cell_type": "code",
   "execution_count": 3,
   "metadata": {},
   "outputs": [],
   "source": [
    "lst = []"
   ]
  },
  {
   "cell_type": "code",
   "execution_count": 4,
   "metadata": {},
   "outputs": [
    {
     "name": "stdout",
     "output_type": "stream",
     "text": [
      "[1, 4, 3]\n"
     ]
    }
   ],
   "source": [
    "x = list(t)\n",
    "x[1] = 4\n",
    "print(x)"
   ]
  },
  {
   "cell_type": "code",
   "execution_count": 7,
   "metadata": {},
   "outputs": [
    {
     "name": "stdout",
     "output_type": "stream",
     "text": [
      "{1, 2, 3}\n",
      "hi\n",
      "42\n"
     ]
    }
   ],
   "source": [
    "# set\n",
    "# What is this?\n",
    "y = {1, 2, 3, 3}\n",
    "print(y)\n",
    "# dictionaries/map\n",
    "# What is this?\n",
    "# You can connect each value with a key to get it later\n",
    "# key: value\n",
    "d = {1: \"hi\", 3: \"bye\", \"lol\": 42}\n",
    "print(d[1])\n",
    "print(d[\"lol\"])"
   ]
  },
  {
   "cell_type": "code",
   "execution_count": 9,
   "metadata": {},
   "outputs": [
    {
     "name": "stdout",
     "output_type": "stream",
     "text": [
      "r\n",
      "rin\n"
     ]
    }
   ],
   "source": [
    "s = \"string\" # string, list of characters\n",
    "b = False # bool\n",
    "x = 1 # int\n",
    "f = 1.0 # float (if you want to learn more, double vs float)\n",
    "c = 's' # character, represented as number internally\n",
    "print(s[2]) # 0 indexing\n",
    "print(s[2:5]) # not inclusive of end"
   ]
  },
  {
   "cell_type": "code",
   "execution_count": 10,
   "metadata": {},
   "outputs": [
    {
     "name": "stdout",
     "output_type": "stream",
     "text": [
      "2\n",
      "<function f at 0x1074931a0>\n",
      "3\n"
     ]
    }
   ],
   "source": [
    "f = 2\n",
    "print(f) # 2\n",
    "\n",
    "def f(): # f = function\n",
    "    return 3\n",
    "print(f) # 3, literally get whatever f is assigned to\n",
    "print(f()) # 3, calling a function"
   ]
  },
  {
   "cell_type": "code",
   "execution_count": 1,
   "metadata": {},
   "outputs": [
    {
     "name": "stdout",
     "output_type": "stream",
     "text": [
      "10\n",
      "4.0\n"
     ]
    }
   ],
   "source": [
    "# Higher order functions\n",
    "def g(func): # g = function<func> -> func(8, 2)\n",
    "    return func(8, 2)\n",
    "\n",
    "def add(x, y):\n",
    "    return x + y\n",
    "\n",
    "def divide(x, y):\n",
    "    return x / y\n",
    "\n",
    "print(\n",
    "    g(add)\n",
    ")\n",
    "print(\n",
    "    g(divide)\n",
    ")"
   ]
  },
  {
   "cell_type": "code",
   "execution_count": 6,
   "metadata": {},
   "outputs": [
    {
     "name": "stdout",
     "output_type": "stream",
     "text": [
      "5\n",
      "None\n",
      "5\n",
      "None\n",
      "5\n",
      "None\n",
      "11\n",
      "11\n"
     ]
    }
   ],
   "source": [
    "# Return values\n",
    "def f():\n",
    "    print(3 + 2)\n",
    "    return None\n",
    "\n",
    "print(f())\n",
    "\n",
    "def g():\n",
    "    print(3 + 2)\n",
    "    # No return value -> return None\n",
    "print(g())\n",
    "print(print(5))\n",
    "\n",
    "def dont_do_anything_with_value():\n",
    "    print(11)\n",
    "\n",
    "print(11)\n",
    "dont_do_anything_with_value()\n",
    "x = dont_do_anything_with_value()"
   ]
  },
  {
   "cell_type": "code",
   "execution_count": 1,
   "metadata": {},
   "outputs": [],
   "source": [
    "# python3 -m pip install numpy\n",
    "import numpy as np"
   ]
  },
  {
   "cell_type": "code",
   "execution_count": 5,
   "metadata": {},
   "outputs": [
    {
     "name": "stdout",
     "output_type": "stream",
     "text": [
      "[0, 1, 2, 3, 4]\n",
      "[1, 1, 1, 1, 1]\n",
      "STARTING np\n",
      "[0 1 2 3 4]\n",
      "[1. 1. 1. 1. 1.]\n",
      "[0 1 2 3 4]\n"
     ]
    }
   ],
   "source": [
    "lst_five = list(range(5))\n",
    "print(lst_five)\n",
    "# 0, 1, 2, 3, 4\n",
    "list_five_ones = [1,1,1,1,1]\n",
    "print(list_five_ones)\n",
    "\n",
    "print(\"STARTING np\")\n",
    "five = np.arange(5)\n",
    "print(five)\n",
    "\n",
    "# 0, 1, 2, 3, 4\n",
    "five_ones = np.ones(5)\n",
    "print(five_ones)\n",
    "# 1 1 1 1 1\n",
    "print(np.array(lst_five))"
   ]
  },
  {
   "cell_type": "code",
   "execution_count": 7,
   "metadata": {},
   "outputs": [
    {
     "name": "stdout",
     "output_type": "stream",
     "text": [
      "int64\n",
      "float64\n"
     ]
    }
   ],
   "source": [
    "# Typically np arrays are specific type, and array operations are faster because of this (meaning faster machine learning)\n",
    "print(five.dtype)\n",
    "print(five_ones.dtype)"
   ]
  },
  {
   "cell_type": "code",
   "execution_count": 20,
   "metadata": {},
   "outputs": [
    {
     "name": "stdout",
     "output_type": "stream",
     "text": [
      "[1, 1, 1, 1, 1, 1, 1, 1, 1, 1]\n",
      "[2. 2. 2. 2. 2.]\n",
      "[2, 3, 4, 5, 52, 62, 66]\n"
     ]
    }
   ],
   "source": [
    "# Regular python has pythonic way, numpy arrays math is doing element-wise math, like how normal math works\n",
    "print(list_five_ones * 2) # regular python list\n",
    "print(five_ones * 2) # numpy array\n",
    "\n",
    "x = [2, 3] + [4, 5] + [52, 62, 66]\n",
    "print(x)"
   ]
  },
  {
   "cell_type": "code",
   "execution_count": 22,
   "metadata": {},
   "outputs": [
    {
     "name": "stdout",
     "output_type": "stream",
     "text": [
      "52\n",
      "[3, 4]\n",
      "[2, 4, 52]\n"
     ]
    }
   ],
   "source": [
    "# List indexing/slicing, same between np and python\n",
    "y = x[4]\n",
    "print(y)\n",
    "z = x[1:3]\n",
    "print(z)\n",
    "a = x[0:6:2]\n",
    "print(a)"
   ]
  },
  {
   "cell_type": "code",
   "execution_count": 24,
   "metadata": {},
   "outputs": [
    {
     "name": "stdout",
     "output_type": "stream",
     "text": [
      "1180545562.2564104\n",
      "5.2135359348865204e+19\n"
     ]
    }
   ],
   "source": [
    "x = [5, 10, 15,1234,13412424,3,7,468,59,5,3456356,568,5,245244567,35673,134,67,579,24566,88,765,226,65785,563,563,245,47579,9,8,77,367,4567,89776,23469,87655678,543,45689876543,456789,876543]\n",
    "N = len(x)\n",
    "# u = (x[0]+x[1]+x[2])/N\n",
    "u = sum([x[i] for i in range(N)]) / N\n",
    "print(u)\n",
    "stdev = sum([(x[i]-u)**2 for i in range(N)])/N\n",
    "print(stdev)\n",
    "\n",
    "# plot the graph"
   ]
  },
  {
   "cell_type": "code",
   "execution_count": null,
   "metadata": {},
   "outputs": [],
   "source": []
  }
 ],
 "metadata": {
  "kernelspec": {
   "display_name": "Python 3",
   "language": "python",
   "name": "python3"
  },
  "language_info": {
   "codemirror_mode": {
    "name": "ipython",
    "version": 3
   },
   "file_extension": ".py",
   "mimetype": "text/x-python",
   "name": "python",
   "nbconvert_exporter": "python",
   "pygments_lexer": "ipython3",
   "version": "3.12.5"
  }
 },
 "nbformat": 4,
 "nbformat_minor": 2
}

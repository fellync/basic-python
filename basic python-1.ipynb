{
 "cells": [
  {
   "cell_type": "code",
   "execution_count": 1,
   "metadata": {},
   "outputs": [
    {
     "name": "stdout",
     "output_type": "stream",
     "text": [
      "t =  (1, 2, 3)\n"
     ]
    }
   ],
   "source": [
    "\n",
    "# tuple/array\n",
    "# What is this?\n",
    "#A tuple stays the same u cant change it\n",
    "t = (1, 2 ,3)\n",
    "# list/array\n",
    "# What is this?\n",
    "# Like a tuple but you can change it\n",
    "l = [1, 2, 3]\n",
    "print(\"t = \", t)\n",
    "# l[0] = 5\n",
    "# print(l)"
   ]
  },
  {
   "cell_type": "code",
   "execution_count": 2,
   "metadata": {},
   "outputs": [
    {
     "name": "stdout",
     "output_type": "stream",
     "text": [
      "[1, 4, 3]\n"
     ]
    }
   ],
   "source": [
    "x = list(t)\n",
    "x[1] = 4\n",
    "print(x)"
   ]
  },
  {
   "cell_type": "code",
   "execution_count": 3,
   "metadata": {},
   "outputs": [],
   "source": [
    "lst = []\n"
   ]
  },
  {
   "cell_type": "code",
   "execution_count": 4,
   "metadata": {},
   "outputs": [
    {
     "name": "stdout",
     "output_type": "stream",
     "text": [
      "[1, 4, 3]\n"
     ]
    }
   ],
   "source": [
    "x = list(t)\n",
    "x[1] = 4\n",
    "print(x)"
   ]
  },
  {
   "cell_type": "code",
   "execution_count": 7,
   "metadata": {},
   "outputs": [
    {
     "name": "stdout",
     "output_type": "stream",
     "text": [
      "{1, 2, 3}\n",
      "hi\n",
      "42\n"
     ]
    }
   ],
   "source": [
    "# set\n",
    "# What is this?\n",
    "y = {1, 2, 3, 3}\n",
    "print(y)\n",
    "# dictionaries/map\n",
    "# What is this?\n",
    "# You can connect each value with a key to get it later\n",
    "# key: value\n",
    "d = {1: \"hi\", 3: \"bye\", \"lol\": 42}\n",
    "print(d[1])\n",
    "print(d[\"lol\"])"
   ]
  },
  {
   "cell_type": "code",
   "execution_count": 9,
   "metadata": {},
   "outputs": [
    {
     "name": "stdout",
     "output_type": "stream",
     "text": [
      "r\n",
      "rin\n"
     ]
    }
   ],
   "source": [
    "s = \"string\" # string, list of characters\n",
    "b = False # bool\n",
    "x = 1 # int\n",
    "f = 1.0 # float (if you want to learn more, double vs float)\n",
    "c = 's' # character, represented as number internally\n",
    "print(s[2]) # 0 indexing\n",
    "print(s[2:5]) # not inclusive of end"
   ]
  },
  {
   "cell_type": "code",
   "execution_count": 10,
   "metadata": {},
   "outputs": [
    {
     "name": "stdout",
     "output_type": "stream",
     "text": [
      "2\n",
      "<function f at 0x1074931a0>\n",
      "3\n"
     ]
    }
   ],
   "source": [
    "f = 2\n",
    "print(f) # 2\n",
    "\n",
    "def f(): # f = function\n",
    "    return 3\n",
    "print(f) # 3, literally get whatever f is assigned to\n",
    "print(f()) # 3, calling a function"
   ]
  },
  {
   "cell_type": "code",
   "execution_count": 11,
   "metadata": {},
   "outputs": [
    {
     "name": "stdout",
     "output_type": "stream",
     "text": [
      "10\n",
      "4.0\n"
     ]
    }
   ],
   "source": [
    "def g(func):\n",
    "    return func(8, 2)\n",
    "\n",
    "def add(x, y):\n",
    "    return x + y\n",
    "\n",
    "def divide(x, y):\n",
    "    return x / y\n",
    "\n",
    "print(\n",
    "    g(add)\n",
    ")\n",
    "print(\n",
    "    g(divide)\n",
    ")"
   ]
  },
  {
   "cell_type": "code",
   "execution_count": null,
   "metadata": {},
   "outputs": [],
   "source": []
  }
 ],
 "metadata": {
  "kernelspec": {
   "display_name": "Python 3",
   "language": "python",
   "name": "python3"
  },
  "language_info": {
   "codemirror_mode": {
    "name": "ipython",
    "version": 3
   },
   "file_extension": ".py",
   "mimetype": "text/x-python",
   "name": "python",
   "nbconvert_exporter": "python",
   "pygments_lexer": "ipython3",
   "version": "3.12.5"
  }
 },
 "nbformat": 4,
 "nbformat_minor": 2
}
